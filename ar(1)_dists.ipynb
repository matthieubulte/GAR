{
 "cells": [
  {
   "cell_type": "code",
   "execution_count": 1,
   "metadata": {},
   "outputs": [
    {
     "name": "stderr",
     "output_type": "stream",
     "text": [
      "INFO: Using numpy backend\n",
      " /Users/matthieubulte/.pyenv/versions/3.9.16/lib/python3.9/site-packages/fdasrsf/umap_metric.py:22: NumbaDeprecationWarning:The 'nopython' keyword argument was not supplied to the 'numba.jit' decorator. The implicit default value for this argument is currently False, but it will be changed to True in Numba 0.59.0. See https://numba.readthedocs.io/en/stable/reference/deprecation.html#deprecation-of-object-mode-fall-back-behaviour-when-using-jit for details.\n",
      " /Users/matthieubulte/.pyenv/versions/3.9.16/lib/python3.9/site-packages/fdasrsf/umap_metric.py:54: NumbaDeprecationWarning:The 'nopython' keyword argument was not supplied to the 'numba.jit' decorator. The implicit default value for this argument is currently False, but it will be changed to True in Numba 0.59.0. See https://numba.readthedocs.io/en/stable/reference/deprecation.html#deprecation-of-object-mode-fall-back-behaviour-when-using-jit for details.\n",
      " /Users/matthieubulte/.pyenv/versions/3.9.16/lib/python3.9/site-packages/fdasrsf/umap_metric.py:76: NumbaDeprecationWarning:The 'nopython' keyword argument was not supplied to the 'numba.jit' decorator. The implicit default value for this argument is currently False, but it will be changed to True in Numba 0.59.0. See https://numba.readthedocs.io/en/stable/reference/deprecation.html#deprecation-of-object-mode-fall-back-behaviour-when-using-jit for details.\n",
      " /Users/matthieubulte/.pyenv/versions/3.9.16/lib/python3.9/site-packages/fdasrsf/umap_metric.py:106: NumbaDeprecationWarning:The 'nopython' keyword argument was not supplied to the 'numba.jit' decorator. The implicit default value for this argument is currently False, but it will be changed to True in Numba 0.59.0. See https://numba.readthedocs.io/en/stable/reference/deprecation.html#deprecation-of-object-mode-fall-back-behaviour-when-using-jit for details.\n",
      " /Users/matthieubulte/.pyenv/versions/3.9.16/lib/python3.9/site-packages/fdasrsf/umap_metric.py:115: NumbaDeprecationWarning:The 'nopython' keyword argument was not supplied to the 'numba.jit' decorator. The implicit default value for this argument is currently False, but it will be changed to True in Numba 0.59.0. See https://numba.readthedocs.io/en/stable/reference/deprecation.html#deprecation-of-object-mode-fall-back-behaviour-when-using-jit for details.\n",
      " /Users/matthieubulte/.pyenv/versions/3.9.16/lib/python3.9/site-packages/fdasrsf/umap_metric.py:140: NumbaDeprecationWarning:The 'nopython' keyword argument was not supplied to the 'numba.jit' decorator. The implicit default value for this argument is currently False, but it will be changed to True in Numba 0.59.0. See https://numba.readthedocs.io/en/stable/reference/deprecation.html#deprecation-of-object-mode-fall-back-behaviour-when-using-jit for details.\n",
      " /Users/matthieubulte/.pyenv/versions/3.9.16/lib/python3.9/site-packages/fdasrsf/umap_metric.py:222: NumbaDeprecationWarning:The 'nopython' keyword argument was not supplied to the 'numba.jit' decorator. The implicit default value for this argument is currently False, but it will be changed to True in Numba 0.59.0. See https://numba.readthedocs.io/en/stable/reference/deprecation.html#deprecation-of-object-mode-fall-back-behaviour-when-using-jit for details.\n"
     ]
    }
   ],
   "source": [
    "import sys, os; sys.path.append(os.path.dirname(os.getcwd())) \n",
    "\n",
    "import numpy as np\n",
    "import matplotlib.pyplot as plt\n",
    "from pyfrechet.metric_spaces import MetricData, RiemannianManifold, CorrFrobenius, MetricSpace\n",
    "from geomstats.geometry.hypersphere import Hypersphere\n",
    "import pandas as pd\n",
    "from pyfrechet.metric_spaces.correlation.nearcorr import nearcorr\n",
    "from tqdm import tqdm\n",
    "import seaborn as sns\n",
    "from joblib import Parallel, delayed\n",
    "from scipy.stats import norm"
   ]
  },
  {
   "cell_type": "markdown",
   "metadata": {},
   "source": [
    "# R with multiplicative noise"
   ]
  },
  {
   "cell_type": "code",
   "execution_count": 2,
   "metadata": {},
   "outputs": [],
   "source": [
    "def m(x, theta, mu):\n",
    "    return theta * x + (1-theta)*mu\n",
    "\n",
    "def sim(N, theta, sig, mu):\n",
    "    x = np.zeros(N) + mu\n",
    "    for i in range(1,N):\n",
    "        x[i] = m(x[i-1], theta, mu) + sig*np.random.randn()\n",
    "    return x\n",
    "\n",
    "def sim_mul(N, theta, sig, mu):\n",
    "    x = np.zeros(N) + mu\n",
    "    for i in range(1,N):\n",
    "        x[i] = (1 + sig*np.random.randn()) * m(x[i-1], theta, mu)\n",
    "    return x\n",
    "\n",
    "\n",
    "def sim_sin(N, theta, sig, mu):\n",
    "    x = np.zeros(N) + mu\n",
    "    for i in range(1,N):\n",
    "        k = (1 - 2*np.random.binomial(1,0.5)) * np.random.random_integers(1, 4)\n",
    "        z = m(x[i-1], theta, mu)\n",
    "        x[i] = z - np.sin(np.pi*k*z)/np.pi/k\n",
    "    return x"
   ]
  },
  {
   "cell_type": "code",
   "execution_count": 10,
   "metadata": {},
   "outputs": [
    {
     "name": "stdout",
     "output_type": "stream",
     "text": [
      "Running T=100 phi=0.0\n"
     ]
    },
    {
     "name": "stderr",
     "output_type": "stream",
     "text": [
      "100%|██████████| 1000/1000 [00:05<00:00, 192.76it/s]\n"
     ]
    },
    {
     "name": "stdout",
     "output_type": "stream",
     "text": [
      "Running T=100 phi=0.1\n"
     ]
    },
    {
     "name": "stderr",
     "output_type": "stream",
     "text": [
      "100%|██████████| 1000/1000 [00:04<00:00, 200.27it/s]\n"
     ]
    },
    {
     "name": "stdout",
     "output_type": "stream",
     "text": [
      "Running T=100 phi=0.2\n"
     ]
    },
    {
     "name": "stderr",
     "output_type": "stream",
     "text": [
      "100%|██████████| 1000/1000 [00:04<00:00, 200.95it/s]\n"
     ]
    },
    {
     "name": "stdout",
     "output_type": "stream",
     "text": [
      "Running T=100 phi=0.30000000000000004\n"
     ]
    },
    {
     "name": "stderr",
     "output_type": "stream",
     "text": [
      "100%|██████████| 1000/1000 [00:04<00:00, 202.49it/s]\n"
     ]
    },
    {
     "name": "stdout",
     "output_type": "stream",
     "text": [
      "Running T=100 phi=0.4\n"
     ]
    },
    {
     "name": "stderr",
     "output_type": "stream",
     "text": [
      "100%|██████████| 1000/1000 [00:04<00:00, 203.49it/s]\n"
     ]
    },
    {
     "name": "stdout",
     "output_type": "stream",
     "text": [
      "Running T=100 phi=0.5\n"
     ]
    },
    {
     "name": "stderr",
     "output_type": "stream",
     "text": [
      "100%|██████████| 1000/1000 [00:04<00:00, 204.23it/s]\n"
     ]
    },
    {
     "name": "stdout",
     "output_type": "stream",
     "text": [
      "Running T=100 phi=0.6000000000000001\n"
     ]
    },
    {
     "name": "stderr",
     "output_type": "stream",
     "text": [
      "100%|██████████| 1000/1000 [00:04<00:00, 204.24it/s]\n"
     ]
    },
    {
     "name": "stdout",
     "output_type": "stream",
     "text": [
      "Running T=100 phi=0.7000000000000001\n"
     ]
    },
    {
     "name": "stderr",
     "output_type": "stream",
     "text": [
      "100%|██████████| 1000/1000 [00:04<00:00, 203.23it/s]\n"
     ]
    },
    {
     "name": "stdout",
     "output_type": "stream",
     "text": [
      "Running T=100 phi=0.8\n"
     ]
    },
    {
     "name": "stderr",
     "output_type": "stream",
     "text": [
      "100%|██████████| 1000/1000 [00:04<00:00, 203.85it/s]\n"
     ]
    },
    {
     "name": "stdout",
     "output_type": "stream",
     "text": [
      "Running T=100 phi=0.9\n"
     ]
    },
    {
     "name": "stderr",
     "output_type": "stream",
     "text": [
      "100%|██████████| 1000/1000 [00:04<00:00, 203.62it/s]\n"
     ]
    },
    {
     "name": "stdout",
     "output_type": "stream",
     "text": [
      "Running T=100 phi=1.0\n"
     ]
    },
    {
     "name": "stderr",
     "output_type": "stream",
     "text": [
      "100%|██████████| 1000/1000 [00:04<00:00, 202.70it/s]\n"
     ]
    },
    {
     "name": "stdout",
     "output_type": "stream",
     "text": [
      "Running T=250 phi=0.0\n"
     ]
    },
    {
     "name": "stderr",
     "output_type": "stream",
     "text": [
      "100%|██████████| 1000/1000 [00:06<00:00, 150.58it/s]\n"
     ]
    },
    {
     "name": "stdout",
     "output_type": "stream",
     "text": [
      "Running T=250 phi=0.1\n"
     ]
    },
    {
     "name": "stderr",
     "output_type": "stream",
     "text": [
      "100%|██████████| 1000/1000 [00:06<00:00, 151.64it/s]\n"
     ]
    },
    {
     "name": "stdout",
     "output_type": "stream",
     "text": [
      "Running T=250 phi=0.2\n"
     ]
    },
    {
     "name": "stderr",
     "output_type": "stream",
     "text": [
      "100%|██████████| 1000/1000 [00:06<00:00, 151.50it/s]\n"
     ]
    },
    {
     "name": "stdout",
     "output_type": "stream",
     "text": [
      "Running T=250 phi=0.30000000000000004\n"
     ]
    },
    {
     "name": "stderr",
     "output_type": "stream",
     "text": [
      "100%|██████████| 1000/1000 [00:06<00:00, 151.49it/s]\n"
     ]
    },
    {
     "name": "stdout",
     "output_type": "stream",
     "text": [
      "Running T=250 phi=0.4\n"
     ]
    },
    {
     "name": "stderr",
     "output_type": "stream",
     "text": [
      "100%|██████████| 1000/1000 [00:06<00:00, 151.22it/s]\n"
     ]
    },
    {
     "name": "stdout",
     "output_type": "stream",
     "text": [
      "Running T=250 phi=0.5\n"
     ]
    },
    {
     "name": "stderr",
     "output_type": "stream",
     "text": [
      "100%|██████████| 1000/1000 [00:06<00:00, 150.74it/s]\n"
     ]
    },
    {
     "name": "stdout",
     "output_type": "stream",
     "text": [
      "Running T=250 phi=0.6000000000000001\n"
     ]
    },
    {
     "name": "stderr",
     "output_type": "stream",
     "text": [
      "100%|██████████| 1000/1000 [00:06<00:00, 150.43it/s]\n"
     ]
    },
    {
     "name": "stdout",
     "output_type": "stream",
     "text": [
      "Running T=250 phi=0.7000000000000001\n"
     ]
    },
    {
     "name": "stderr",
     "output_type": "stream",
     "text": [
      "100%|██████████| 1000/1000 [00:06<00:00, 150.29it/s]\n"
     ]
    },
    {
     "name": "stdout",
     "output_type": "stream",
     "text": [
      "Running T=250 phi=0.8\n"
     ]
    },
    {
     "name": "stderr",
     "output_type": "stream",
     "text": [
      "100%|██████████| 1000/1000 [00:06<00:00, 149.74it/s]\n"
     ]
    },
    {
     "name": "stdout",
     "output_type": "stream",
     "text": [
      "Running T=250 phi=0.9\n"
     ]
    },
    {
     "name": "stderr",
     "output_type": "stream",
     "text": [
      "100%|██████████| 1000/1000 [00:06<00:00, 149.47it/s]\n"
     ]
    },
    {
     "name": "stdout",
     "output_type": "stream",
     "text": [
      "Running T=250 phi=1.0\n"
     ]
    },
    {
     "name": "stderr",
     "output_type": "stream",
     "text": [
      "100%|██████████| 1000/1000 [00:06<00:00, 149.24it/s]\n"
     ]
    },
    {
     "name": "stdout",
     "output_type": "stream",
     "text": [
      "Running T=500 phi=0.0\n"
     ]
    },
    {
     "name": "stderr",
     "output_type": "stream",
     "text": [
      "100%|██████████| 1000/1000 [00:09<00:00, 105.94it/s]\n"
     ]
    },
    {
     "name": "stdout",
     "output_type": "stream",
     "text": [
      "Running T=500 phi=0.1\n"
     ]
    },
    {
     "name": "stderr",
     "output_type": "stream",
     "text": [
      "100%|██████████| 1000/1000 [00:09<00:00, 105.96it/s]\n"
     ]
    },
    {
     "name": "stdout",
     "output_type": "stream",
     "text": [
      "Running T=500 phi=0.2\n"
     ]
    },
    {
     "name": "stderr",
     "output_type": "stream",
     "text": [
      "100%|██████████| 1000/1000 [00:09<00:00, 105.67it/s]\n"
     ]
    },
    {
     "name": "stdout",
     "output_type": "stream",
     "text": [
      "Running T=500 phi=0.30000000000000004\n"
     ]
    },
    {
     "name": "stderr",
     "output_type": "stream",
     "text": [
      "100%|██████████| 1000/1000 [00:09<00:00, 105.73it/s]\n"
     ]
    },
    {
     "name": "stdout",
     "output_type": "stream",
     "text": [
      "Running T=500 phi=0.4\n"
     ]
    },
    {
     "name": "stderr",
     "output_type": "stream",
     "text": [
      "100%|██████████| 1000/1000 [00:09<00:00, 105.53it/s]\n"
     ]
    },
    {
     "name": "stdout",
     "output_type": "stream",
     "text": [
      "Running T=500 phi=0.5\n"
     ]
    },
    {
     "name": "stderr",
     "output_type": "stream",
     "text": [
      "100%|██████████| 1000/1000 [00:09<00:00, 103.97it/s]\n"
     ]
    },
    {
     "name": "stdout",
     "output_type": "stream",
     "text": [
      "Running T=500 phi=0.6000000000000001\n"
     ]
    },
    {
     "name": "stderr",
     "output_type": "stream",
     "text": [
      "100%|██████████| 1000/1000 [00:10<00:00, 93.36it/s]\n"
     ]
    },
    {
     "name": "stdout",
     "output_type": "stream",
     "text": [
      "Running T=500 phi=0.7000000000000001\n"
     ]
    },
    {
     "name": "stderr",
     "output_type": "stream",
     "text": [
      "100%|██████████| 1000/1000 [00:09<00:00, 103.97it/s]\n"
     ]
    },
    {
     "name": "stdout",
     "output_type": "stream",
     "text": [
      "Running T=500 phi=0.8\n"
     ]
    },
    {
     "name": "stderr",
     "output_type": "stream",
     "text": [
      "100%|██████████| 1000/1000 [00:09<00:00, 104.84it/s]\n"
     ]
    },
    {
     "name": "stdout",
     "output_type": "stream",
     "text": [
      "Running T=500 phi=0.9\n"
     ]
    },
    {
     "name": "stderr",
     "output_type": "stream",
     "text": [
      "100%|██████████| 1000/1000 [00:09<00:00, 104.73it/s]\n"
     ]
    },
    {
     "name": "stdout",
     "output_type": "stream",
     "text": [
      "Running T=500 phi=1.0\n"
     ]
    },
    {
     "name": "stderr",
     "output_type": "stream",
     "text": [
      "100%|██████████| 1000/1000 [00:09<00:00, 104.45it/s]\n"
     ]
    },
    {
     "name": "stdout",
     "output_type": "stream",
     "text": [
      "Running T=1000 phi=0.0\n"
     ]
    },
    {
     "name": "stderr",
     "output_type": "stream",
     "text": [
      "100%|██████████| 1000/1000 [00:14<00:00, 66.72it/s]\n"
     ]
    },
    {
     "name": "stdout",
     "output_type": "stream",
     "text": [
      "Running T=1000 phi=0.1\n"
     ]
    },
    {
     "name": "stderr",
     "output_type": "stream",
     "text": [
      "100%|██████████| 1000/1000 [00:15<00:00, 66.62it/s]\n"
     ]
    },
    {
     "name": "stdout",
     "output_type": "stream",
     "text": [
      "Running T=1000 phi=0.2\n"
     ]
    },
    {
     "name": "stderr",
     "output_type": "stream",
     "text": [
      "100%|██████████| 1000/1000 [00:15<00:00, 66.51it/s]\n"
     ]
    },
    {
     "name": "stdout",
     "output_type": "stream",
     "text": [
      "Running T=1000 phi=0.30000000000000004\n"
     ]
    },
    {
     "name": "stderr",
     "output_type": "stream",
     "text": [
      "100%|██████████| 1000/1000 [00:15<00:00, 66.47it/s]\n"
     ]
    },
    {
     "name": "stdout",
     "output_type": "stream",
     "text": [
      "Running T=1000 phi=0.4\n"
     ]
    },
    {
     "name": "stderr",
     "output_type": "stream",
     "text": [
      "100%|██████████| 1000/1000 [00:15<00:00, 66.37it/s]\n"
     ]
    },
    {
     "name": "stdout",
     "output_type": "stream",
     "text": [
      "Running T=1000 phi=0.5\n"
     ]
    },
    {
     "name": "stderr",
     "output_type": "stream",
     "text": [
      "100%|██████████| 1000/1000 [00:15<00:00, 66.35it/s]\n"
     ]
    },
    {
     "name": "stdout",
     "output_type": "stream",
     "text": [
      "Running T=1000 phi=0.6000000000000001\n"
     ]
    },
    {
     "name": "stderr",
     "output_type": "stream",
     "text": [
      "100%|██████████| 1000/1000 [00:15<00:00, 66.22it/s]\n"
     ]
    },
    {
     "name": "stdout",
     "output_type": "stream",
     "text": [
      "Running T=1000 phi=0.7000000000000001\n"
     ]
    },
    {
     "name": "stderr",
     "output_type": "stream",
     "text": [
      "100%|██████████| 1000/1000 [00:15<00:00, 66.25it/s]\n"
     ]
    },
    {
     "name": "stdout",
     "output_type": "stream",
     "text": [
      "Running T=1000 phi=0.8\n"
     ]
    },
    {
     "name": "stderr",
     "output_type": "stream",
     "text": [
      "100%|██████████| 1000/1000 [00:15<00:00, 66.11it/s]\n"
     ]
    },
    {
     "name": "stdout",
     "output_type": "stream",
     "text": [
      "Running T=1000 phi=0.9\n"
     ]
    },
    {
     "name": "stderr",
     "output_type": "stream",
     "text": [
      "100%|██████████| 1000/1000 [00:15<00:00, 66.05it/s]\n"
     ]
    },
    {
     "name": "stdout",
     "output_type": "stream",
     "text": [
      "Running T=1000 phi=1.0\n"
     ]
    },
    {
     "name": "stderr",
     "output_type": "stream",
     "text": [
      "100%|██████████| 1000/1000 [00:15<00:00, 65.82it/s]\n"
     ]
    }
   ],
   "source": [
    "M = 1000 # number of replicates\n",
    "B = 500 # number of bootstrap replicates\n",
    "\n",
    "phis = np.linspace(0, 1, 11)\n",
    "Ts = [100, 250, 500, 1000]\n",
    "\n",
    "df = pd.DataFrame(columns=['T', 'phi', 'replicate_id', 'Dt', 'boot_mean_Dt', 'boot_sig_Dt'])\n",
    "\n",
    "mean = 1.5\n",
    "noise_var = 0.2\n",
    "\n",
    "def bootstrap_mu_sig(x, B):\n",
    "    bootstrap = np.zeros(B)\n",
    "    for b in range(B):\n",
    "        permed = np.random.permutation(x)\n",
    "        bootstrap[b] = np.mean(np.power(np.diff(permed), 2))\n",
    "    \n",
    "    sig_hat = np.sqrt(bootstrap.var())\n",
    "    mu_hat = bootstrap.mean()\n",
    "    \n",
    "    return mu_hat, sig_hat\n",
    "\n",
    "\n",
    "for T in Ts:\n",
    "    for phi in phis:\n",
    "        print(f\"Running T={T} phi={phi}\")\n",
    "        for replicate_id in tqdm(range(M)):\n",
    "            x = sim_mul(T, phi, noise_var, mean)\n",
    "            Dt = np.mean(np.power(np.diff(x), 2))\n",
    "\n",
    "            boot_mean_Dt, boot_sig_Dt = bootstrap_mu_sig(x, B)\n",
    "\n",
    "            df.loc[len(df)] = [T, phi, replicate_id, Dt, boot_mean_Dt, boot_sig_Dt]\n",
    "\n",
    "df.to_csv('./results_R_mult_noise.csv')"
   ]
  },
  {
   "cell_type": "code",
   "execution_count": 12,
   "metadata": {},
   "outputs": [],
   "source": []
  },
  {
   "cell_type": "code",
   "execution_count": 9,
   "metadata": {},
   "outputs": [
    {
     "name": "stderr",
     "output_type": "stream",
     "text": [
      "100%|██████████| 1000/1000 [00:14<00:00, 70.89it/s]"
     ]
    },
    {
     "name": "stdout",
     "output_type": "stream",
     "text": [
      "% rejects under H1 1.0\n",
      "% rejects under H0 0.062\n"
     ]
    },
    {
     "name": "stderr",
     "output_type": "stream",
     "text": [
      "\n"
     ]
    },
    {
     "data": {
      "text/plain": [
       "<matplotlib.legend.Legend at 0x1721c0c10>"
      ]
     },
     "execution_count": 9,
     "metadata": {},
     "output_type": "execute_result"
    },
    {
     "data": {
      "image/png": "[encoded data removed]",
      "text/plain": [
       "<Figure size 640x480 with 1 Axes>"
      ]
     },
     "metadata": {},
     "output_type": "display_data"
    }
   ],
   "source": [
    "res = np.zeros((1000, 4))\n",
    "\n",
    "mu = 1.5\n",
    "theta = 0.2\n",
    "\n",
    "N = 1_000\n",
    "B = 500\n",
    "\n",
    "def bootstrap_mu_sig(x, B):\n",
    "    # DIRECT ESTIMATION - check this a bit more\n",
    "    #\n",
    "    # D_XY_XZ = np.zeros((2, B))\n",
    "    # for b in range(B):\n",
    "    #     idx = np.random.randint(N, size=3)\n",
    "    #     D_XY_XZ[0, b] = np.abs(x[idx[0]] - x[idx[1]])\n",
    "    #     D_XY_XZ[1, b] = np.abs(x[idx[0]] - x[idx[2]])\n",
    "\n",
    "    # cov = np.cov(D_XY_XZ)\n",
    "    # sig_hat = np.sqrt(cov[0,0] + 2*cov[0,1]) / np.sqrt(B)\n",
    "    # mu_hat = D_XY_XZ[0,:].mean()\n",
    "\n",
    "    # BOOTSTRAP VERSION\n",
    "    # \n",
    "    bootstrap = np.zeros(B)\n",
    "    for b in range(B):\n",
    "        permed = np.random.permutation(x)\n",
    "        # bootstrap[b] = np.mean(np.abs(np.diff(permed)))\n",
    "        bootstrap[b] = np.mean(np.power(np.diff(permed), 2))\n",
    "    \n",
    "    sig_hat = np.sqrt(bootstrap.var())\n",
    "    mu_hat = bootstrap.mean()\n",
    "    \n",
    "    return mu_hat, sig_hat\n",
    "\n",
    "for i in tqdm(range(res.shape[0])):\n",
    "    x = sim_mul(N, theta, 0.13, mu)\n",
    "    \n",
    "    # res[i,0] = np.mean(np.abs(np.diff(x)))\n",
    "    res[i,0] = np.mean(np.power(np.diff(x), 2))\n",
    "\n",
    "    permed = np.random.permutation(x)\n",
    "    # res[i,1] =  np.mean(np.abs(np.diff(permed)))\n",
    "    res[i,1] = np.mean(np.power(np.diff(permed), 2))\n",
    "\n",
    "    mu_hat, sig_hat = bootstrap_mu_sig(x, B)\n",
    "    res[i, 2] = mu_hat\n",
    "    res[i, 3] = sig_hat\n",
    "\n",
    "plt.hist((res[:, 0] - res[:, 2]) / res[:, 3], label='not shuffled', alpha=0.5, density=True)\n",
    "plt.hist((res[:, 1] - res[:, 2]) / res[:, 3], label='shuffled', alpha=0.5, density=True)\n",
    "\n",
    "_x = np.linspace(-3, 3)\n",
    "plt.plot(_x, norm.pdf(_x))\n",
    "\n",
    "print(\"% rejects under H1\", (np.abs((res[:, 0] - res[:, 2]) / res[:, 3]) > norm.ppf(0.975)).mean())\n",
    "print(\"% rejects under H0\", (np.abs((res[:, 1] - res[:, 2]) / res[:, 3]) > norm.ppf(0.975)).mean())\n",
    "\n",
    "plt.legend()\n"
   ]
  },
  {
   "cell_type": "markdown",
   "metadata": {},
   "source": [
    "# Wasserstein"
   ]
  },
  {
   "cell_type": "code",
   "execution_count": 316,
   "metadata": {},
   "outputs": [
    {
     "data": {
      "text/plain": [
       "<matplotlib.legend.Legend at 0x296db3d60>"
      ]
     },
     "execution_count": 316,
     "metadata": {},
     "output_type": "execute_result"
    },
    {
     "data": {
      "image/png": "[encoded data removed]",
      "text/plain": [
       "<Figure size 640x480 with 1 Axes>"
      ]
     },
     "metadata": {},
     "output_type": "display_data"
    }
   ],
   "source": [
    "from scipy import stats\n",
    "from pyfrechet.metric_spaces import *\n",
    "import pyfrechet.metric_spaces.wasserstein_1d as W1d\n",
    "\n",
    "def gamma(x, theta, mu):\n",
    "    # the rvs are represented as their quantile functions, so interpolation is euclidean\n",
    "    return theta * x + (1-theta)*mu\n",
    "\n",
    "def sim(N, theta, mu):\n",
    "    x = np.zeros((N, mu.shape[0])) + mu\n",
    "    for i in range(1,N):\n",
    "        z = gamma(x[i-1], theta, mu)\n",
    "\n",
    "        k = (1 - 2*np.random.binomial(1,0.5)) * np.random.random_integers(1, 4)\n",
    "        x[i, :] = z - np.sin(np.pi*k*z)/np.pi/abs(k)\n",
    "    return x\n",
    "\n",
    "STD_NORMAL_Q = stats.norm.ppf(W1d.Wasserstein1D.GRID)\n",
    "STD_NORMAL_Q[0] = 2*STD_NORMAL_Q[1] - STD_NORMAL_Q[2] # lexp to avoid infs\n",
    "STD_NORMAL_Q[-1] = 2*STD_NORMAL_Q[-2] - STD_NORMAL_Q[-3] # lexp to avoid infs\n",
    "\n",
    "\n",
    "N = 25_000\n",
    "thetas = [0, 0.25, 0.5, 0.75]\n",
    "mu = STD_NORMAL_Q\n",
    "\n",
    "for j in range(len(thetas)):\n",
    "    theta = thetas[j]\n",
    "    x = sim(N, theta, mu)\n",
    "\n",
    "    M = W1d.Wasserstein1D()\n",
    "\n",
    "    mu_hats = np.zeros_like(x)\n",
    "    errs = np.zeros(N)\n",
    "    for i in range(2,N):\n",
    "        mu_hats[i,:] = MetricData(M, x[:i,:]).frechet_mean()\n",
    "        errs[i] = M.d(mu, mu_hats[i,:])\n",
    "\n",
    "    plt.plot(errs[100:], label=theta)\n",
    "\n",
    "plt.legend()\n"
   ]
  },
  {
   "cell_type": "code",
   "execution_count": 318,
   "metadata": {},
   "outputs": [
    {
     "name": "stderr",
     "output_type": "stream",
     "text": [
      "100%|██████████| 100/100 [00:01<00:00, 54.15it/s]\n",
      "100%|██████████| 100/100 [00:01<00:00, 53.52it/s]\n",
      "100%|██████████| 100/100 [00:01<00:00, 54.09it/s]\n",
      "100%|██████████| 100/100 [00:01<00:00, 52.22it/s]\n"
     ]
    },
    {
     "data": {
      "image/png": "[encoded data removed]",
      "text/plain": [
       "<Figure size 640x480 with 1 Axes>"
      ]
     },
     "metadata": {},
     "output_type": "display_data"
    }
   ],
   "source": [
    "tgrid = np.linspace(0,1,100)\n",
    "\n",
    "N = 1_000\n",
    "thetas = [0, 0.25, 0.5, 0.75]\n",
    "mu = STD_NORMAL_Q\n",
    "\n",
    "for j in range(len(thetas)):\n",
    "    theta = thetas[j]\n",
    "    x = sim(N, theta, mu)\n",
    "\n",
    "    M = W1d.Wasserstein1D()\n",
    "    mu_hat = MetricData(M, x).frechet_mean()\n",
    "    def calc(_theta): return np.array([ M._d(gamma(x[j-1,:], _theta, mu_hat), x[j,:])**2 for j in range(1, N) ]).mean()\n",
    "\n",
    "    errs = np.array([ calc(tgrid[i]) for i in tqdm(range(tgrid.shape[0])) ])\n",
    "    plt.plot(tgrid, errs, label=theta)\n",
    "    plt.axvline(theta, color='red', label=theta)\n",
    "    plt.axvline(tgrid[np.argmin(errs)], color='yellow', label=theta)\n",
    "\n",
    "\n",
    "\n",
    "# tgrid = np.linspace(0,1,100)\n",
    "# def calc(_theta): return np.array([ M._d(gamma(x[j-1,:], _theta, mu_hat), x[j,:])**2 for j in range(1, N) ]).mean()\n",
    "# errs = np.array([ calc(tgrid[i]) for i in tqdm(range(tgrid.shape[0])) ])\n",
    "\n",
    "# plt.plot(tgrid, errs)\n",
    "# plt.axvline(theta, color='red')\n",
    "# plt.axvline(tgrid[np.argmin(errs)], color='yellow')"
   ]
  },
  {
   "cell_type": "code",
   "execution_count": 303,
   "metadata": {},
   "outputs": [
    {
     "name": "stderr",
     "output_type": "stream",
     "text": [
      "100%|██████████| 1000/1000 [17:39<00:00,  1.06s/it]"
     ]
    },
    {
     "name": "stdout",
     "output_type": "stream",
     "text": [
      "% rejects under H1 1.0\n",
      "% rejects under H0 0.054\n"
     ]
    },
    {
     "name": "stderr",
     "output_type": "stream",
     "text": [
      "\n"
     ]
    },
    {
     "data": {
      "text/plain": [
       "<matplotlib.legend.Legend at 0x289573070>"
      ]
     },
     "execution_count": 303,
     "metadata": {},
     "output_type": "execute_result"
    },
    {
     "data": {
      "image/png": "[encoded data removed]",
      "text/plain": [
       "<Figure size 640x480 with 1 Axes>"
      ]
     },
     "metadata": {},
     "output_type": "display_data"
    }
   ],
   "source": [
    "def Dn(x):\n",
    "    # faster to do by hand to get vectorization\n",
    "    return np.sqrt(np.sum(np.power(np.diff(x, axis=0), 2), axis=1)).mean() * np.sqrt(W1d.Wasserstein1D.GRID[1] - W1d.Wasserstein1D.GRID[0])\n",
    "\n",
    "def bootstrap_mu_sig(x, B):\n",
    "    # DIRECT ESTIMATION - check this a bit more\n",
    "    #\n",
    "    # D_XY_XZ = np.zeros((2, B))\n",
    "    # for b in range(B):\n",
    "    #     idx = np.random.randint(N, size=3)\n",
    "    #     D_XY_XZ[0, b] = np.abs(x[idx[0]] - x[idx[1]])\n",
    "    #     D_XY_XZ[1, b] = np.abs(x[idx[0]] - x[idx[2]])\n",
    "\n",
    "    # cov = np.cov(D_XY_XZ)\n",
    "    # sig_hat = np.sqrt(cov[0,0] + 2*cov[0,1]) / np.sqrt(B)\n",
    "    # mu_hat = D_XY_XZ[0,:].mean()\n",
    "\n",
    "    # BOOTSTRAP VERSION\n",
    "    # \n",
    "\n",
    "    # def boot():\n",
    "    #     return Dn(np.random.permutation(x))\n",
    "\n",
    "    # bootstrap = np.array(Parallel(n_jobs=-1)(delayed(boot)() for i in range(B)))\n",
    "\n",
    "    bootstrap = np.zeros(B)\n",
    "    for b in range(B):\n",
    "        bootstrap[b] = Dn(np.random.permutation(x))\n",
    "    \n",
    "    sig_hat = np.sqrt(bootstrap.var())\n",
    "    mu_hat = bootstrap.mean()\n",
    "    \n",
    "    return mu_hat, sig_hat\n",
    "\n",
    "\n",
    "res = np.zeros((1000, 4))\n",
    "\n",
    "N = 1_000\n",
    "B = 1_000\n",
    "\n",
    "theta = 0.5\n",
    "mu = STD_NORMAL_Q\n",
    "\n",
    "for i in tqdm(range(res.shape[0])):\n",
    "    x = sim(N, theta, mu)\n",
    "    \n",
    "    res[i,0] = Dn(x)\n",
    "\n",
    "    permed = np.random.permutation(x)\n",
    "    res[i,1] = Dn(permed)\n",
    "\n",
    "    mu_hat, sig_hat = bootstrap_mu_sig(x, B)\n",
    "    res[i, 2] = mu_hat\n",
    "    res[i, 3] = sig_hat\n",
    "\n",
    "plt.hist((res[:, 0] - res[:, 2]) / res[:, 3], label='not shuffled', alpha=0.5, density=True)\n",
    "plt.hist((res[:, 1] - res[:, 2]) / res[:, 3], label='shuffled', alpha=0.5, density=True)\n",
    "\n",
    "_x = np.linspace(-3, 3)\n",
    "plt.plot(_x, norm.pdf(_x))\n",
    "\n",
    "print(\"% rejects under H1\", (np.abs((res[:, 0] - res[:, 2]) / res[:, 3]) > norm.ppf(0.975)).mean())\n",
    "print(\"% rejects under H0\", (np.abs((res[:, 1] - res[:, 2]) / res[:, 3]) > norm.ppf(0.975)).mean())\n",
    "\n",
    "plt.legend()\n",
    "\n"
   ]
  }
 ],
 "metadata": {
  "kernelspec": {
   "display_name": "Python 3",
   "language": "python",
   "name": "python3"
  },
  "language_info": {
   "codemirror_mode": {
    "name": "ipython",
    "version": 3
   },
   "file_extension": ".py",
   "mimetype": "text/x-python",
   "name": "python",
   "nbconvert_exporter": "python",
   "pygments_lexer": "ipython3",
   "version": "3.9.16"
  },
  "orig_nbformat": 4
 },
 "nbformat": 4,
 "nbformat_minor": 2
}
