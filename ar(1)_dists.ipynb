{
 "cells": [
  {
   "cell_type": "code",
   "execution_count": 1,
   "metadata": {},
   "outputs": [
    {
     "name": "stderr",
     "output_type": "stream",
     "text": [
      "INFO: Using numpy backend\n",
      " /Users/matthieubulte/.pyenv/versions/3.9.16/lib/python3.9/site-packages/fdasrsf/umap_metric.py:22: NumbaDeprecationWarning:The 'nopython' keyword argument was not supplied to the 'numba.jit' decorator. The implicit default value for this argument is currently False, but it will be changed to True in Numba 0.59.0. See https://numba.readthedocs.io/en/stable/reference/deprecation.html#deprecation-of-object-mode-fall-back-behaviour-when-using-jit for details.\n",
      " /Users/matthieubulte/.pyenv/versions/3.9.16/lib/python3.9/site-packages/fdasrsf/umap_metric.py:54: NumbaDeprecationWarning:The 'nopython' keyword argument was not supplied to the 'numba.jit' decorator. The implicit default value for this argument is currently False, but it will be changed to True in Numba 0.59.0. See https://numba.readthedocs.io/en/stable/reference/deprecation.html#deprecation-of-object-mode-fall-back-behaviour-when-using-jit for details.\n",
      " /Users/matthieubulte/.pyenv/versions/3.9.16/lib/python3.9/site-packages/fdasrsf/umap_metric.py:76: NumbaDeprecationWarning:The 'nopython' keyword argument was not supplied to the 'numba.jit' decorator. The implicit default value for this argument is currently False, but it will be changed to True in Numba 0.59.0. See https://numba.readthedocs.io/en/stable/reference/deprecation.html#deprecation-of-object-mode-fall-back-behaviour-when-using-jit for details.\n",
      " /Users/matthieubulte/.pyenv/versions/3.9.16/lib/python3.9/site-packages/fdasrsf/umap_metric.py:106: NumbaDeprecationWarning:The 'nopython' keyword argument was not supplied to the 'numba.jit' decorator. The implicit default value for this argument is currently False, but it will be changed to True in Numba 0.59.0. See https://numba.readthedocs.io/en/stable/reference/deprecation.html#deprecation-of-object-mode-fall-back-behaviour-when-using-jit for details.\n",
      " /Users/matthieubulte/.pyenv/versions/3.9.16/lib/python3.9/site-packages/fdasrsf/umap_metric.py:115: NumbaDeprecationWarning:The 'nopython' keyword argument was not supplied to the 'numba.jit' decorator. The implicit default value for this argument is currently False, but it will be changed to True in Numba 0.59.0. See https://numba.readthedocs.io/en/stable/reference/deprecation.html#deprecation-of-object-mode-fall-back-behaviour-when-using-jit for details.\n",
      " /Users/matthieubulte/.pyenv/versions/3.9.16/lib/python3.9/site-packages/fdasrsf/umap_metric.py:140: NumbaDeprecationWarning:The 'nopython' keyword argument was not supplied to the 'numba.jit' decorator. The implicit default value for this argument is currently False, but it will be changed to True in Numba 0.59.0. See https://numba.readthedocs.io/en/stable/reference/deprecation.html#deprecation-of-object-mode-fall-back-behaviour-when-using-jit for details.\n",
      " /Users/matthieubulte/.pyenv/versions/3.9.16/lib/python3.9/site-packages/fdasrsf/umap_metric.py:222: NumbaDeprecationWarning:The 'nopython' keyword argument was not supplied to the 'numba.jit' decorator. The implicit default value for this argument is currently False, but it will be changed to True in Numba 0.59.0. See https://numba.readthedocs.io/en/stable/reference/deprecation.html#deprecation-of-object-mode-fall-back-behaviour-when-using-jit for details.\n"
     ]
    }
   ],
   "source": [
    "import sys, os; sys.path.append(os.path.dirname(os.getcwd())) \n",
    "\n",
    "import numpy as np\n",
    "import matplotlib.pyplot as plt\n",
    "from pyfrechet.metric_spaces import MetricData, RiemannianManifold, CorrFrobenius\n",
    "from geomstats.geometry.hypersphere import Hypersphere\n",
    "import pandas as pd\n",
    "from pyfrechet.metric_spaces.correlation.nearcorr import nearcorr\n",
    "from tqdm import tqdm\n",
    "import seaborn as sns\n",
    "from joblib import Parallel, delayed\n",
    "from scipy.stats import norm"
   ]
  },
  {
   "cell_type": "markdown",
   "metadata": {},
   "source": [
    "# R with multiplicative noise"
   ]
  },
  {
   "cell_type": "code",
   "execution_count": 3,
   "metadata": {},
   "outputs": [],
   "source": [
    "def m(x, theta, mu):\n",
    "    return theta * x + (1-theta)*mu\n",
    "\n",
    "def sim(N, theta, sig, mu):\n",
    "    x = np.zeros(N) + mu\n",
    "    for i in range(1,N):\n",
    "        x[i] = m(x[i-1], theta, mu) + sig*np.random.randn()\n",
    "    return x\n",
    "\n",
    "def sim_mul(N, theta, sig, mu):\n",
    "    x = np.zeros(N) + mu\n",
    "    for i in range(1,N):\n",
    "        x[i] = (1 + sig*np.random.randn()) * m(x[i-1], theta, mu)\n",
    "    return x"
   ]
  },
  {
   "cell_type": "code",
   "execution_count": 4,
   "metadata": {},
   "outputs": [
    {
     "name": "stderr",
     "output_type": "stream",
     "text": [
      "  0%|          | 0/1000 [00:00<?, ?it/s]"
     ]
    },
    {
     "name": "stderr",
     "output_type": "stream",
     "text": [
      "100%|██████████| 1000/1000 [00:16<00:00, 59.09it/s]"
     ]
    },
    {
     "name": "stdout",
     "output_type": "stream",
     "text": [
      "% rejects under H1 1.0\n",
      "% rejects under H0 0.048\n"
     ]
    },
    {
     "name": "stderr",
     "output_type": "stream",
     "text": [
      "\n"
     ]
    },
    {
     "data": {
      "text/plain": [
       "<matplotlib.legend.Legend at 0x175252490>"
      ]
     },
     "execution_count": 4,
     "metadata": {},
     "output_type": "execute_result"
    },
    {
     "data": {
      "image/png": "[encoded data removed]",
      "text/plain": [
       "<Figure size 640x480 with 1 Axes>"
      ]
     },
     "metadata": {},
     "output_type": "display_data"
    }
   ],
   "source": [
    "res = np.zeros((1000, 4))\n",
    "theta = 0.65\n",
    "N = 1_000\n",
    "B = 1_000\n",
    "\n",
    "def bootstrap_mu_sig(x, B):\n",
    "    # DIRECT ESTIMATION - check this a bit more\n",
    "    #\n",
    "    # D_XY_XZ = np.zeros((2, B))\n",
    "    # for b in range(B):\n",
    "    #     idx = np.random.randint(N, size=3)\n",
    "    #     D_XY_XZ[0, b] = np.abs(x[idx[0]] - x[idx[1]])\n",
    "    #     D_XY_XZ[1, b] = np.abs(x[idx[0]] - x[idx[2]])\n",
    "\n",
    "    # cov = np.cov(D_XY_XZ)\n",
    "    # sig_hat = np.sqrt(cov[0,0] + 2*cov[0,1]) / np.sqrt(B)\n",
    "    # mu_hat = D_XY_XZ[0,:].mean()\n",
    "\n",
    "    # BOOTSTRAP VERSION\n",
    "    # \n",
    "    bootstrap = np.zeros(B)\n",
    "    for b in range(B):\n",
    "        permed = np.random.permutation(x)\n",
    "        bootstrap[b] = np.mean(np.abs(np.diff(permed)))\n",
    "    \n",
    "    sig_hat = np.sqrt(bootstrap.var())\n",
    "    mu_hat = bootstrap.mean()\n",
    "    \n",
    "    return mu_hat, sig_hat\n",
    "\n",
    "for i in tqdm(range(res.shape[0])):\n",
    "    x = sim_mul(N, theta, 0.13, mu)\n",
    "\n",
    "    res[i,0] = np.mean(np.abs(np.diff(x)))\n",
    "\n",
    "    permed = np.random.permutation(x)\n",
    "    res[i,1] =  np.mean(np.abs(np.diff(permed)))\n",
    "\n",
    "    mu_hat, sig_hat = bootstrap_mu_sig(x, B)\n",
    "    res[i, 2] = mu_hat\n",
    "    res[i, 3] = sig_hat\n",
    "\n",
    "plt.hist((res[:, 0] - res[:, 2]) / res[:, 3], label='not shuffled', alpha=0.5, density=True)\n",
    "plt.hist((res[:, 1] - res[:, 2]) / res[:, 3], label='shuffled', alpha=0.5, density=True)\n",
    "\n",
    "_x = np.linspace(-3, 3)\n",
    "plt.plot(_x, norm.pdf(_x))\n",
    "\n",
    "print(\"% rejects under H1\", (np.abs((res[:, 0] - res[:, 2]) / res[:, 3]) > norm.ppf(0.975)).mean())\n",
    "print(\"% rejects under H0\", (np.abs((res[:, 1] - res[:, 2]) / res[:, 3]) > norm.ppf(0.975)).mean())\n",
    "\n",
    "plt.legend()\n"
   ]
  },
  {
   "cell_type": "markdown",
   "metadata": {},
   "source": [
    "# Wasserstein"
   ]
  },
  {
   "cell_type": "code",
   "execution_count": null,
   "metadata": {},
   "outputs": [],
   "source": []
  }
 ],
 "metadata": {
  "kernelspec": {
   "display_name": "Python 3",
   "language": "python",
   "name": "python3"
  },
  "language_info": {
   "codemirror_mode": {
    "name": "ipython",
    "version": 3
   },
   "file_extension": ".py",
   "mimetype": "text/x-python",
   "name": "python",
   "nbconvert_exporter": "python",
   "pygments_lexer": "ipython3",
   "version": "3.9.16"
  },
  "orig_nbformat": 4
 },
 "nbformat": 4,
 "nbformat_minor": 2
}
